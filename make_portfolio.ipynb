{
 "cells": [
  {
   "cell_type": "code",
   "execution_count": 1,
   "metadata": {},
   "outputs": [],
   "source": [
    "import pandas as pd\n",
    "import numpy as np\n",
    "import matplotlib.pyplot as plt\n",
    "\n",
    "data = pd.read_csv('./data/no_transcript_final_dataset.csv')"
   ]
  },
  {
   "cell_type": "code",
   "execution_count": 33,
   "metadata": {},
   "outputs": [],
   "source": [
    "def add_to_dict(asset_df:pd.DataFrame, portfolio_dict:dict, date:str, nlp:str):\n",
    "    date = pd.to_datetime(date)\n",
    "    date = date + pd.DateOffset(months=1)\n",
    "    date = date.strftime('%Y-%m-%d')\n",
    "    portfolio_dict[date] = {'ticker':asset_df['ticker'].tolist(),\n",
    "                            'score':asset_df[nlp].tolist(), \n",
    "                            'weight':asset_df['normalized_weights'].tolist(),\n",
    "                            'decile':asset_df['decile'].tolist()}\n",
    "    return portfolio_dict\n",
    "\n",
    "def get_decile(sub_data:pd.DataFrame, nlp:str)->pd.DataFrame:\n",
    "    decile_size = len(sub_data) // 10\n",
    "    sorted_data = sub_data.sort_values(nlp, ascending=False)\n",
    "    decile_df = pd.DataFrame()\n",
    "    for i in range(1,11):\n",
    "        start_idx = (i - 1) * decile_size\n",
    "        end_idx = start_idx + decile_size\n",
    "        ith_decile = sorted_data.iloc[start_idx:end_idx]\n",
    "        ith_decile[\"normalized_weights\"] = 1/len(ith_decile)\n",
    "        ith_decile.loc[:,'decile'] = i\n",
    "        decile_df = pd.concat([decile_df, ith_decile])\n",
    "    return decile_df"
   ]
  },
  {
   "cell_type": "code",
   "execution_count": 36,
   "metadata": {},
   "outputs": [
    {
     "name": "stderr",
     "output_type": "stream",
     "text": [
      "100%|██████████| 5/5 [00:02<00:00,  2.25it/s]\n"
     ]
    }
   ],
   "source": [
    "from tqdm import tqdm\n",
    "import pickle\n",
    "import warnings\n",
    "import os\n",
    "from pandas.errors import SettingWithCopyWarning\n",
    "warnings.simplefilter(action='ignore', category=(SettingWithCopyWarning))\n",
    "os.makedirs('./data/portfolio_decile_value', exist_ok=True)\n",
    "nlp_columns = ['GHR-bigram-tf-idf','GHR-bigram-unigram-tf-idf','GHR-bigram-LM-unigram-tf-idf','enhanced-bow','vader-standardized']\n",
    "nlp = 'GHR-bigram-tf-idf'\n",
    "data['date'] = pd.to_datetime(data['date'])\n",
    "\n",
    "start_yr, end_yr = data['date'].min().year,data['date'].max().year\n",
    "for nlp in tqdm(nlp_columns):\n",
    "    portfolio_dict = {}\n",
    "    for yr in range(start_yr,end_yr+1):\n",
    "        for mh in range(1,13):\n",
    "            sub_data = data[(data['date'].dt.year == yr) & (data['date'].dt.month == mh)]\n",
    "            if len(sub_data) < 100: # Skip if there are less than 100 data points\n",
    "                continue\n",
    "            decile_df = get_decile(sub_data, nlp) # Get the decile portfolio\n",
    "            portfolio_dict = add_to_dict(decile_df, portfolio_dict, f'{yr}-{mh}-01', nlp)\n",
    "    with open(f'./data/portfolio_decile/portfolio_dict_{nlp}.pkl', 'wb') as handle:\n",
    "        pickle.dump(portfolio_dict, handle)"
   ]
  }
 ],
 "metadata": {
  "kernelspec": {
   "display_name": "base",
   "language": "python",
   "name": "python3"
  },
  "language_info": {
   "codemirror_mode": {
    "name": "ipython",
    "version": 3
   },
   "file_extension": ".py",
   "mimetype": "text/x-python",
   "name": "python",
   "nbconvert_exporter": "python",
   "pygments_lexer": "ipython3",
   "version": "3.11.1"
  }
 },
 "nbformat": 4,
 "nbformat_minor": 2
}
