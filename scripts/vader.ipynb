{
 "cells": [
  {
   "cell_type": "code",
   "execution_count": null,
   "metadata": {},
   "outputs": [],
   "source": [
    "from nltk.sentiment.vader import SentimentIntensityAnalyzer\n",
    "import nltk\n",
    "nltk.download('vader_lexicon')\n",
    "import pandas as pd\n",
    "analyzer = SentimentIntensityAnalyzer()\n",
    "\n",
    "whole_dataset = pd.read_csv(\"..\\data\\\\final_dataset.csv\")"
   ]
  },
  {
   "cell_type": "code",
   "execution_count": null,
   "metadata": {},
   "outputs": [],
   "source": [
    "def run_vader(dataframe):\n",
    "    \"\"\"Generate VADER scores for each earnings call using pretrained VADER rules-based algorithm.\"\"\"\n",
    "    df_len = len(dataframe[\"ticker\"])\n",
    "\n",
    "    vader_scores = []\n",
    "    i = 0\n",
    "\n",
    "    for transcript in dataframe[\"transcript\"]:\n",
    "        i += 1\n",
    "        \n",
    "        transcript_polarity = analyzer.polarity_scores(transcript)\n",
    "        neg = (transcript_polarity['neg'])\n",
    "        pos = (transcript_polarity['pos'])\n",
    "\n",
    "        # Calculate positivity sentiment:\n",
    "        final_sentiment = (pos-neg)/(neg+pos+1)\n",
    "        vader_scores.append(final_sentiment)\n",
    "\n",
    "        if i%100 == 0:\n",
    "            print(f\"Percentage done: {round(i*100/df_len, 3)}%.\")\n",
    "            \n",
    "    return vader_scores\n"
   ]
  },
  {
   "cell_type": "code",
   "execution_count": null,
   "metadata": {},
   "outputs": [],
   "source": [
    "vader_scores = run_vader(whole_dataset)\n",
    "\n",
    "from sklearn.preprocessing import MinMaxScaler\n",
    "import numpy as np\n",
    "\n",
    "sentiment_scores = np.array(vader_scores)\n",
    "\"\"\"\n",
    "We normalize the data and avoid using the compound score to be consistent with our other sentiment indices. \n",
    "This introduces lookahead bias in magnitudes, but not in relative scores within a given time bucket, as scores are ranked\n",
    "in relation to the max and min scores over the whole time series. But since we're interested in earnings call sentiments \n",
    "relative to others in a given period (portfolio holding time) and order is preserved in each time bucket,\n",
    "this is not a substantial problem.   \n",
    "\"\"\"\n",
    "scaler = MinMaxScaler(feature_range = (-1, 1))\n",
    "normalized_scores = scaler.fit_transform(sentiment_scores.reshape(-1, 1))"
   ]
  },
  {
   "cell_type": "code",
   "execution_count": null,
   "metadata": {},
   "outputs": [],
   "source": [
    "normalized_scores = normalized_scores.tolist()\n",
    "normalized_scores = [score[0] for score in normalized_scores]"
   ]
  },
  {
   "cell_type": "code",
   "execution_count": null,
   "metadata": {},
   "outputs": [],
   "source": [
    "whole_dataset['vader-standardized'] = normalized_scores # Yes, should be vader-normalized!"
   ]
  },
  {
   "cell_type": "markdown",
   "metadata": {},
   "source": [
    "Update final_dataset"
   ]
  },
  {
   "cell_type": "code",
   "execution_count": null,
   "metadata": {},
   "outputs": [],
   "source": [
    "whole_dataset.to_csv(\"..\\data\\\\final_dataset.csv\", index=False)"
   ]
  },
  {
   "cell_type": "markdown",
   "metadata": {},
   "source": [
    "Create final dataset with no transcripts"
   ]
  },
  {
   "cell_type": "code",
   "execution_count": null,
   "metadata": {},
   "outputs": [],
   "source": [
    "df = pd.read_csv(\"..\\data\\\\final_dataset.csv\")\n",
    "df.drop(columns=\"transcript\", inplace=True)\n",
    "# df\n",
    "df.to_csv(\"..\\data\\\\no_transcript_final_dataset.csv\",index=False)"
   ]
  }
 ],
 "metadata": {
  "kernelspec": {
   "display_name": "Python 3",
   "language": "python",
   "name": "python3"
  },
  "language_info": {
   "codemirror_mode": {
    "name": "ipython",
    "version": 3
   },
   "file_extension": ".py",
   "mimetype": "text/x-python",
   "name": "python",
   "nbconvert_exporter": "python",
   "pygments_lexer": "ipython3",
   "version": "3.11.1"
  }
 },
 "nbformat": 4,
 "nbformat_minor": 2
}
