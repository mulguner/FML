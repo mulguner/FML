{
 "cells": [
  {
   "cell_type": "code",
   "execution_count": null,
   "metadata": {},
   "outputs": [],
   "source": [
    "import pandas as pd\n",
    "import numpy as np\n",
    "import matplotlib.pyplot as plt\n",
    "import os"
   ]
  },
  {
   "cell_type": "code",
   "execution_count": null,
   "metadata": {},
   "outputs": [],
   "source": [
    "dir = 'data/portfolio_decile_value'\n",
    "port_lt = os.listdir(dir)\n",
    "port = port_lt[0]"
   ]
  },
  {
   "cell_type": "code",
   "execution_count": null,
   "metadata": {},
   "outputs": [],
   "source": [
    "def get_performance(port):\n",
    "    file = dir + '/' + port\n",
    "    df = pd.read_csv(file)\n",
    "    decile_rows = df[df['Unnamed: 0'] == 'decile']\n",
    "    decile_values = decile_rows['0'].tolist()\n",
    "\n",
    "    output_df = pd.DataFrame()\n",
    "    for i, value in enumerate(decile_values):\n",
    "        if i == 0:\n",
    "            decile_df = df.iloc[:decile_rows.index[i]]\n",
    "            decile_df.columns = ['Date', str(int(value))]\n",
    "            output_df = decile_df.copy(deep=True)\n",
    "        elif i == len(decile_values)-1:\n",
    "            decile_df = df.iloc[decile_rows.index[i-1]+1:]\n",
    "            decile_df.columns = ['Date', str(int(value))]\n",
    "            output_df = pd.merge(output_df, decile_df, how='left', on='Date')\n",
    "        else:\n",
    "            decile_df = df.iloc[decile_rows.index[i-1]+1:decile_rows.index[i]]\n",
    "            decile_df.columns = ['Date', str(int(value))]\n",
    "            output_df = pd.merge(output_df, decile_df, how='left', on='Date')\n",
    "    new_df = pd.DataFrame({'Date': '2019-02-28','1':1,'2':1,'3':1,'4':1,'5':1,'6':1,'7':1,'8':1,'9':1,'10':1}, index=[0])\n",
    "    output_df = pd.concat([new_df,output_df], ignore_index=True)\n",
    "    output_df.set_index('Date', inplace=True)\n",
    "    output_df = output_df.pct_change().dropna()\n",
    "    output_df = output_df.loc[:,(output_df != 0).any(axis=0)]\n",
    "    #print(output_df)\n",
    "    mean = (output_df.mean() + 1)**252 - 1\n",
    "    std = output_df.std() * np.sqrt(252)\n",
    "    ff = pd.read_csv('data/F-F_Research_Data_Factors_daily.CSV')\n",
    "    ff.columns = ['Date', 'Mkt-RF', 'SMB', 'HML', 'RF']\n",
    "    ff['Date'] = pd.to_datetime(ff['Date'], format='%Y%m%d').dt.strftime('%Y-%m-%d')\n",
    "    ff.set_index('Date', inplace=True)\n",
    "    output_df = pd.merge(output_df, ff['RF']/100, how='left', on='Date')\n",
    "    mean_rf = (output_df['RF'].mean() + 1)**252 - 1\n",
    "    sr = (mean - mean_rf) / std\n",
    "    return mean, std, sr"
   ]
  },
  {
   "cell_type": "code",
   "execution_count": null,
   "metadata": {},
   "outputs": [],
   "source": [
    "os.makedirs('data/portfolio_decile_vis', exist_ok=True)\n",
    "def vis_performance(port,mean, std, sr):\n",
    "    fig, axes = plt.subplots(1, 3, figsize=(15, 6))\n",
    "    axes[0].bar(mean.index[::-1], mean)\n",
    "    axes[0].set_title('Mean Return')\n",
    "    axes[1].bar(std.index[::-1], std)\n",
    "    axes[1].set_title('Standard Deviation')\n",
    "    axes[2].bar(sr.index[::-1], sr)\n",
    "    axes[2].set_title('Sharpe Ratio')\n",
    "    fig.suptitle(f\"{port.split('.')[0].split('_')[-1]} (annualized)\", fontsize=16)\n",
    "    fig.savefig('data/portfolio_decile_vis/' + port + '.png')\n",
    "    plt.close(fig)"
   ]
  },
  {
   "cell_type": "code",
   "execution_count": null,
   "metadata": {},
   "outputs": [],
   "source": [
    "for port in port_lt:\n",
    "    mean, std, sr = get_performance(port)\n",
    "    vis_performance(port, mean, std, sr)"
   ]
  }
 ],
 "metadata": {
  "kernelspec": {
   "display_name": "base",
   "language": "python",
   "name": "python3"
  },
  "language_info": {
   "codemirror_mode": {
    "name": "ipython",
    "version": 3
   },
   "file_extension": ".py",
   "mimetype": "text/x-python",
   "name": "python",
   "nbconvert_exporter": "python",
   "pygments_lexer": "ipython3",
   "version": "3.11.1"
  }
 },
 "nbformat": 4,
 "nbformat_minor": 2
}
